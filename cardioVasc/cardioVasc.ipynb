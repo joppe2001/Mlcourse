{
 "cells": [
  {
   "cell_type": "markdown",
   "id": "ce39089b",
   "metadata": {},
   "source": [
    "## Importing necessary libraries"
   ]
  },
  {
   "cell_type": "code",
   "execution_count": 16,
   "id": "5377fcea",
   "metadata": {},
   "outputs": [],
   "source": [
    "\n",
    "import pandas as pd\n",
    "from sklearn.model_selection import train_test_split\n",
    "from sklearn.compose import ColumnTransformer\n",
    "from sklearn.preprocessing import OneHotEncoder, StandardScaler\n",
    "import numpy as np\n",
    "    "
   ]
  },
  {
   "cell_type": "markdown",
   "id": "acecf007",
   "metadata": {},
   "source": [
    "## Convert sample data to a pandas DataFrame"
   ]
  },
  {
   "cell_type": "code",
   "execution_count": 17,
   "id": "d989c49a",
   "metadata": {},
   "outputs": [],
   "source": [
    "data = pd.read_csv('cardio_data_processed.csv')"
   ]
  },
  {
   "cell_type": "markdown",
   "id": "ea09d75b",
   "metadata": {},
   "source": [
    "## Extract features and target"
   ]
  },
  {
   "cell_type": "code",
   "execution_count": 18,
   "id": "77b94193",
   "metadata": {},
   "outputs": [],
   "source": [
    "# extract features and target\n",
    "X = data.drop(['id', 'cardio', 'age_years', 'bp_category_encoded' ], axis=1)\n",
    "y = data['cardio']\n",
    "    "
   ]
  },
  {
   "cell_type": "markdown",
   "id": "8426b59b",
   "metadata": {},
   "source": [
    "## Split the data into training and test sets"
   ]
  },
  {
   "cell_type": "code",
   "execution_count": 19,
   "id": "375785e6",
   "metadata": {},
   "outputs": [],
   "source": [
    "\n",
    "X_train, X_test, y_train, y_test = train_test_split(X, y, test_size=0.2, random_state=2)\n"
   ]
  },
  {
   "cell_type": "markdown",
   "id": "cbfee8a6",
   "metadata": {},
   "source": [
    "## Create the column transformer"
   ]
  },
  {
   "cell_type": "code",
   "execution_count": 20,
   "id": "1f9a15b2",
   "metadata": {},
   "outputs": [],
   "source": [
    "ct = ColumnTransformer([\n",
    "    ('one_hot_encoder', OneHotEncoder(drop='first'), ['gender', 'cholesterol', 'gluc', 'smoke', 'alco', 'active', 'bp_category']),\n",
    "    ('standard_scaler', StandardScaler(), ['age', 'height', 'weight', 'ap_hi', 'ap_lo', 'bmi']),\n",
    "], remainder='passthrough')"
   ]
  },
  {
   "cell_type": "markdown",
   "id": "b98eb739",
   "metadata": {},
   "source": [
    "## Transform training and test data"
   ]
  },
  {
   "cell_type": "code",
   "execution_count": 21,
   "id": "aea765ab",
   "metadata": {},
   "outputs": [],
   "source": [
    "\n",
    "X_train_transformed = ct.fit_transform(X_train)\n",
    "X_test_transformed = ct.transform(X_test)\n",
    "    "
   ]
  },
  {
   "cell_type": "markdown",
   "id": "87c54140",
   "metadata": {},
   "source": [
    "## Create the random forest regression model"
   ]
  },
  {
   "cell_type": "code",
   "execution_count": 22,
   "id": "a1192743",
   "metadata": {},
   "outputs": [
    {
     "name": "stdout",
     "output_type": "stream",
     "text": [
      "427/427 [==============================] - 0s 283us/step\n",
      "MAE: 0.3528867338092221\n",
      "MSE: 0.18039050559780992\n",
      "RMSE: 0.42472403463638586\n",
      "R2 score: 0.2784278914065178\n"
     ]
    }
   ],
   "source": [
    "\n",
    "from keras.models import Sequential\n",
    "from keras.layers import Dense\n",
    "\n",
    "model = Sequential()\n",
    "model.add(Dense(64, input_dim=X_train_transformed.shape[1], activation='relu'))\n",
    "model.add(Dense(32, activation='relu'))\n",
    "model.add(Dense(1, activation='sigmoid'))\n",
    "\n",
    "model.compile(loss='mean_squared_error', optimizer='adam')\n",
    "\n",
    "model.fit(X_train_transformed, y_train, epochs=50, batch_size=300, verbose=0)\n",
    "\n",
    "y_pred = model.predict(X_test_transformed)\n",
    "\n",
    "from sklearn.metrics import mean_absolute_error, mean_squared_error, r2_score\n",
    "\n",
    "print('MAE:', mean_absolute_error(y_test, y_pred))\n",
    "print('MSE:', mean_squared_error(y_test, y_pred))\n",
    "print('RMSE:', np.sqrt(mean_squared_error(y_test, y_pred)))\n",
    "print('R2 score:', r2_score(y_test, y_pred))\n"
   ]
  },
  {
   "cell_type": "markdown",
   "id": "ad1186de",
   "metadata": {},
   "source": [
    "## Evaluation metrics"
   ]
  },
  {
   "cell_type": "code",
   "execution_count": 23,
   "id": "76dff626",
   "metadata": {},
   "outputs": [
    {
     "name": "stdout",
     "output_type": "stream",
     "text": [
      "MAE: 0.3528867338092221\n",
      "MSE: 0.18039050559780992\n",
      "RMSE: 0.42472403463638586\n",
      "R2 score: 0.2784278914065178\n"
     ]
    }
   ],
   "source": [
    "# Evaluate the model's performance\n",
    "from sklearn.metrics import mean_absolute_error, mean_squared_error, r2_score\n",
    "\n",
    "print('MAE:', mean_absolute_error(y_test, y_pred))\n",
    "print('MSE:', mean_squared_error(y_test, y_pred))\n",
    "print('RMSE:', np.sqrt(mean_squared_error(y_test, y_pred)))\n",
    "print('R2 score:', r2_score(y_test, y_pred))\n",
    "    "
   ]
  },
  {
   "cell_type": "markdown",
   "id": "4f4ea62d",
   "metadata": {},
   "source": [
    "## Save and load model and transformer"
   ]
  },
  {
   "cell_type": "code",
   "execution_count": 24,
   "id": "237ea7b6",
   "metadata": {},
   "outputs": [
    {
     "name": "stdout",
     "output_type": "stream",
     "text": [
      "INFO:tensorflow:Assets written to: trainedModel/assets\n"
     ]
    },
    {
     "name": "stderr",
     "output_type": "stream",
     "text": [
      "INFO:tensorflow:Assets written to: trainedModel/assets\n"
     ]
    }
   ],
   "source": [
    "\n",
    "from joblib import dump, load\n",
    "\n",
    "# After training your model and transformer:\n",
    "model.save('trainedModel')\n",
    "dump(ct, 'transformer.joblib')\n",
    "\n",
    "from keras.models import load_model\n",
    "loaded_model = load_model('trainedModel')\n",
    "loaded_transformer = load('transformer.joblib')\n",
    "    "
   ]
  },
  {
   "cell_type": "markdown",
   "id": "294bc727",
   "metadata": {},
   "source": [
    "## predict_insurance_cost function"
   ]
  },
  {
   "cell_type": "code",
   "execution_count": 25,
   "id": "5714e9f2",
   "metadata": {},
   "outputs": [],
   "source": [
    "def predict_cardiovascular(age, gender, height, weight, systolic_bp, diastolic_bp, cholesterol, glucose, smoker, alcoholic, bmi, active, bp_category, model=loaded_model, transformer=loaded_transformer):\n",
    "    # Convert age from days to years\n",
    "    age = age / 365.25\n",
    "    \n",
    "    # Create a DataFrame with the input data\n",
    "    input_data = pd.DataFrame({\n",
    "        'age': [age],\n",
    "        'gender': [gender],\n",
    "        'height': [height],\n",
    "        'weight': [weight],\n",
    "        'ap_hi': [systolic_bp],\n",
    "        'ap_lo': [diastolic_bp],\n",
    "        'cholesterol': [cholesterol],\n",
    "        'gluc': [glucose],\n",
    "        'smoke': [smoker],\n",
    "        'alco': [alcoholic],\n",
    "        'bmi': [bmi],\n",
    "        'active': [active],\n",
    "        'bp_category': [bp_category]\n",
    "    })\n",
    "    \n",
    "    # Replace unknown categories with NaN\n",
    "    input_data.replace({-1: np.nan}, inplace=True)\n",
    "    \n",
    "    # Transform the input data using the same transformer used during training\n",
    "    transformed_input = transformer.transform(input_data)\n",
    "    \n",
    "    # Make prediction using the trained model\n",
    "    prediction = model.predict(transformed_input)\n",
    "    \n",
    "    # Return the predicted insurance cost\n",
    "    return prediction[0]"
   ]
  },
  {
   "cell_type": "markdown",
   "id": "4fbef0d9",
   "metadata": {},
   "source": []
  },
  {
   "cell_type": "markdown",
   "id": "a8ed1339",
   "metadata": {},
   "source": [
    "## Test the function with a sample input"
   ]
  },
  {
   "cell_type": "code",
   "execution_count": 26,
   "id": "cb494815",
   "metadata": {},
   "outputs": [
    {
     "name": "stdout",
     "output_type": "stream",
     "text": [
      "1/1 [==============================] - 0s 21ms/step\n",
      "You are healthy!\n"
     ]
    }
   ],
   "source": [
    "\n",
    "age = 22 * 365.25  # age in days\n",
    "gender = 1\n",
    "height = 184\n",
    "weight = 67\n",
    "systolic_bp = 100\n",
    "diastolic_bp = 80\n",
    "cholesterol = 1\n",
    "glucose = 1\n",
    "smoker = 0\n",
    "alcoholic = 1\n",
    "bmi = weight / ((height/100)**2)\n",
    "active = 1\n",
    "bp_category = 'Hypertension Stage 2'\n",
    "\n",
    "prediction = predict_cardiovascular(age, gender, height, weight, systolic_bp, diastolic_bp, cholesterol, glucose, smoker, alcoholic, bmi, active, bp_category)\n",
    "\n",
    "if prediction == 1:\n",
    "    print('You might have cardiovascular disease!')\n",
    "else:\n",
    "    print('You are healthy!')"
   ]
  },
  {
   "cell_type": "code",
   "execution_count": 27,
   "id": "f61e7d24",
   "metadata": {},
   "outputs": [],
   "source": [
    "#  create a function that prompts a user to give their information and returns the predicted  predict_cardiovascular function\n",
    "\n",
    "def predict_cardiovascular_from_input():\n",
    "    # Prompt user to enter their information\n",
    "    age = float(input(\"Enter your age in years: \"))\n",
    "    gender = int(input(\"Enter your gender (0 for female, 1 for male): \"))\n",
    "    height = float(input(\"Enter your height in cm: \"))\n",
    "    weight = float(input(\"Enter your weight in kg: \"))\n",
    "    systolic_bp = float(input(\"Enter your systolic blood pressure in mmHg: \"))\n",
    "    diastolic_bp = float(input(\"Enter your diastolic blood pressure in mmHg: \"))\n",
    "    cholesterol = int(input(\"Enter your cholesterol level (1 for normal, 2 for above normal): \"))\n",
    "    glucose = int(input(\"Enter your glucose level (1 for normal, 2 for above normal): \"))\n",
    "    smoker = int(input(\"Do you smoke? (0 for no, 1 for yes): \"))\n",
    "    alcoholic = int(input(\"Do you drink alcohol? (0 for no, 1 for yes): \"))\n",
    "    active = int(input(\"How active are you? (0 for not active, 1 for moderately active, 2 for very active): \"))\n",
    "    bp_category = input(\"Enter your blood pressure category (Normal, Elevated, Hypertension Stage 1, Hypertension Stage 2): \")\n",
    "    \n",
    "    # Convert age from years to days\n",
    "    age = age * 365.25\n",
    "    \n",
    "    # Calculate BMI\n",
    "    bmi = weight / ((height/100)**2)\n",
    "    \n",
    "    # Make prediction using the trained model\n",
    "    prediction = predict_cardiovascular(age, gender, height, weight, systolic_bp, diastolic_bp, cholesterol, glucose, smoker, alcoholic, bmi, active, bp_category)\n",
    "    \n",
    "    # Return the predicted cardiovascular disease risk\n",
    "    return prediction"
   ]
  }
 ],
 "metadata": {
  "kernelspec": {
   "display_name": "Python 3",
   "language": "python",
   "name": "python3"
  },
  "language_info": {
   "codemirror_mode": {
    "name": "ipython",
    "version": 3
   },
   "file_extension": ".py",
   "mimetype": "text/x-python",
   "name": "python",
   "nbconvert_exporter": "python",
   "pygments_lexer": "ipython3",
   "version": "3.11.5"
  }
 },
 "nbformat": 4,
 "nbformat_minor": 5
}
