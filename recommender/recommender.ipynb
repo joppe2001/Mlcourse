{
 "cells": [
  {
   "cell_type": "markdown",
   "id": "db2afd14",
   "metadata": {},
   "source": [
    "# 1. Data Loading and Exploration"
   ]
  },
  {
   "cell_type": "markdown",
   "id": "e8723dea",
   "metadata": {},
   "source": [
    "## 1.1 Load the dataset"
   ]
  },
  {
   "cell_type": "code",
   "execution_count": null,
   "id": "80a5e581",
   "metadata": {},
   "outputs": [],
   "source": [
    "import pandas as pd\n",
    "import numpy as np\n",
    "import seaborn as sns\n",
    "import matplotlib.pyplot as plt\n",
    "from sklearn.feature_extraction.text import CountVectorizer\n",
    "\n",
    "dataset = pd.read_csv('anime_list_encoded.csv')\n",
    "\n",
    "print(dataset)"
   ]
  },
  {
   "cell_type": "markdown",
   "id": "e0a7a22d",
   "metadata": {},
   "source": [
    "## 1.2 Basic statistics and data overview"
   ]
  },
  {
   "cell_type": "code",
   "execution_count": null,
   "id": "06767406",
   "metadata": {},
   "outputs": [],
   "source": [
    "print(dataset.describe())"
   ]
  },
  {
   "cell_type": "markdown",
   "id": "1240358b",
   "metadata": {},
   "source": [
    "## 1.3 Data cleaning (handle missing values, outliers, etc.)"
   ]
  },
  {
   "cell_type": "code",
   "execution_count": null,
   "id": "4b860f3b",
   "metadata": {},
   "outputs": [],
   "source": [
    "dataset['url'].fillna('URL_NOT_AVAILABLE', inplace=True)\n",
    "\n",
    "numerical_columns = ['score']\n",
    "for col in numerical_columns:\n",
    "    dataset[col].fillna(dataset[col].mean(), inplace=True)\n",
    "\n",
    "categorical_columns = ['jpName', 'lastUpdate', 'engName', 'source', 'status', 'aired', 'duration', 'rating', 'studios', 'genres', 'producer', 'licensors']\n",
    "for col in categorical_columns:\n",
    "    dataset[col].fillna('NOT_AVAILABLE', inplace=True)\n",
    "\n",
    "dataset['missing_data'] = dataset.isnull().any(axis=1).astype(int)\n",
    "\n",
    "# print count of datapoints with value nan\n",
    "print(dataset.isnull().sum())"
   ]
  },
  {
   "cell_type": "markdown",
   "id": "0a66f21f",
   "metadata": {},
   "source": [
    "# 2. Content-based Filtering"
   ]
  },
  {
   "cell_type": "markdown",
   "id": "d35a5f55",
   "metadata": {},
   "source": [
    "## 2.1 Feature extraction and preprocessing"
   ]
  },
  {
   "cell_type": "code",
   "execution_count": 6,
   "id": "0e885af7",
   "metadata": {},
   "outputs": [
    {
     "name": "stdout",
     "output_type": "stream",
     "text": [
      "count    24594.000000\n",
      "mean         2.190656\n",
      "std          1.778201\n",
      "min          0.000000\n",
      "25%          0.000000\n",
      "50%          3.000000\n",
      "75%          3.000000\n",
      "max          6.000000\n",
      "Name: rating, dtype: float64\n",
      "count    24594.000000\n",
      "mean         1.004229\n",
      "std          0.178497\n",
      "min          0.000000\n",
      "25%          1.000000\n",
      "50%          1.000000\n",
      "75%          1.000000\n",
      "max          2.000000\n",
      "Name: status, dtype: float64\n"
     ]
    }
   ],
   "source": [
    "from sklearn.preprocessing import LabelEncoder\n",
    "\n",
    "\n",
    "labelencoder = LabelEncoder()\n",
    "dataset['rating'] = labelencoder.fit_transform(dataset['rating'])\n",
    "dataset['status'] = labelencoder.fit_transform(dataset['status'])\n",
    "dataset['themes'] = labelencoder.fit_transform(dataset['themes'])\n",
    "\n",
    "print(dataset['rating'].describe())\n",
    "print(dataset['status'].describe())\n",
    "print(dataset['themes'].describe())\n",
    "\n",
    "\n",
    "# create dataframe of the features used in training the model ( like genres, rating, duration, score, themes)\n",
    "\n",
    "\n"
   ]
  },
  {
   "cell_type": "markdown",
   "id": "c52ae9cc",
   "metadata": {},
   "source": [
    "## 2.2 Compute similarity scores between shows"
   ]
  },
  {
   "cell_type": "code",
   "execution_count": null,
   "id": "167d3ede",
   "metadata": {},
   "outputs": [],
   "source": [
    "\n"
   ]
  },
  {
   "cell_type": "markdown",
   "id": "3fd3518e",
   "metadata": {},
   "source": [
    "## 2.3 Generate recommendations based on similarity"
   ]
  },
  {
   "cell_type": "markdown",
   "id": "b3f75ffc",
   "metadata": {},
   "source": [
    "# 3. Collaborative Filtering"
   ]
  },
  {
   "cell_type": "markdown",
   "id": "46328376",
   "metadata": {},
   "source": [
    "## 3.1 Prepare user-item interaction matrix/data"
   ]
  },
  {
   "cell_type": "markdown",
   "id": "92e912a7",
   "metadata": {},
   "source": [
    "## 3.2 Implement User-User Collaborative Filtering"
   ]
  },
  {
   "cell_type": "markdown",
   "id": "b5fbcf4c",
   "metadata": {},
   "source": [
    "## 3.3 Implement Item-Item Collaborative Filtering"
   ]
  },
  {
   "cell_type": "markdown",
   "id": "4a25d898",
   "metadata": {},
   "source": [
    "# 4. Evaluation"
   ]
  },
  {
   "cell_type": "markdown",
   "id": "d2396d6f",
   "metadata": {},
   "source": [
    "## 4.1 Split data into training and test sets"
   ]
  },
  {
   "cell_type": "markdown",
   "id": "6f8870a8",
   "metadata": {},
   "source": [
    "## 4.2 Define evaluation metrics"
   ]
  },
  {
   "cell_type": "markdown",
   "id": "5b6d9af1",
   "metadata": {},
   "source": [
    "## 4.3 Evaluate the performance of recommendation models"
   ]
  },
  {
   "cell_type": "markdown",
   "id": "66beb27b",
   "metadata": {},
   "source": [
    "# 5. Iteration and Improvement"
   ]
  },
  {
   "cell_type": "markdown",
   "id": "ee8a4320",
   "metadata": {},
   "source": [
    "## 5.1 Analyze evaluation results"
   ]
  },
  {
   "cell_type": "markdown",
   "id": "cebeb944",
   "metadata": {},
   "source": [
    "## 5.2 Refine models or features based on feedback"
   ]
  },
  {
   "cell_type": "markdown",
   "id": "89197897",
   "metadata": {},
   "source": [
    "## 5.3 Experiment with hybrid methods or other algorithms"
   ]
  },
  {
   "cell_type": "markdown",
   "id": "2253395f",
   "metadata": {},
   "source": [
    "# 6. Scalability Considerations"
   ]
  },
  {
   "cell_type": "markdown",
   "id": "a0a53c3f",
   "metadata": {},
   "source": [
    "## 6.1 Optimize data structures for faster computation"
   ]
  },
  {
   "cell_type": "markdown",
   "id": "f30fc27b",
   "metadata": {},
   "source": [
    "## 6.2 Consider using specialized libraries or tools"
   ]
  },
  {
   "cell_type": "markdown",
   "id": "62201582",
   "metadata": {},
   "source": [
    "## 6.3 Think about deployment and serving recommendations in real-time"
   ]
  },
  {
   "cell_type": "markdown",
   "id": "7f7e3ed7",
   "metadata": {},
   "source": [
    "# 7. User Feedback Loop"
   ]
  },
  {
   "cell_type": "markdown",
   "id": "fca93288",
   "metadata": {},
   "source": [
    "## 7.1 Implement user feedback mechanisms (like/dislike, ratings)"
   ]
  },
  {
   "cell_type": "markdown",
   "id": "542111a5",
   "metadata": {},
   "source": [
    "## 7.2 Adjust recommendation logic based on user feedback"
   ]
  },
  {
   "cell_type": "markdown",
   "id": "fcd128e9",
   "metadata": {},
   "source": [
    "## 7.3 Monitor and continuously improve recommendation quality"
   ]
  }
 ],
 "metadata": {
  "kernelspec": {
   "display_name": "Python 3",
   "language": "python",
   "name": "python3"
  },
  "language_info": {
   "codemirror_mode": {
    "name": "ipython",
    "version": 3
   },
   "file_extension": ".py",
   "mimetype": "text/x-python",
   "name": "python",
   "nbconvert_exporter": "python",
   "pygments_lexer": "ipython3",
   "version": "3.11.5"
  }
 },
 "nbformat": 4,
 "nbformat_minor": 5
}
