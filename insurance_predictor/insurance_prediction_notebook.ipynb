{
 "cells": [
  {
   "cell_type": "markdown",
   "id": "ce39089b",
   "metadata": {},
   "source": [
    "## Importing necessary libraries"
   ]
  },
  {
   "cell_type": "code",
   "execution_count": 1,
   "id": "5377fcea",
   "metadata": {},
   "outputs": [],
   "source": [
    "\n",
    "import pandas as pd\n",
    "from sklearn.model_selection import train_test_split\n",
    "from sklearn.compose import ColumnTransformer\n",
    "from sklearn.ensemble import RandomForestRegressor\n",
    "from sklearn.preprocessing import OneHotEncoder, StandardScaler\n",
    "from sklearn.metrics import mean_absolute_error, mean_squared_error\n",
    "import numpy as np\n",
    "    "
   ]
  },
  {
   "cell_type": "markdown",
   "id": "acecf007",
   "metadata": {},
   "source": [
    "## Convert sample data to a pandas DataFrame"
   ]
  },
  {
   "cell_type": "code",
   "execution_count": 2,
   "id": "d989c49a",
   "metadata": {},
   "outputs": [],
   "source": [
    "data = pd.read_csv('insurance.csv')"
   ]
  },
  {
   "cell_type": "markdown",
   "id": "ea09d75b",
   "metadata": {},
   "source": [
    "## Extract features and target"
   ]
  },
  {
   "cell_type": "code",
   "execution_count": 3,
   "id": "77b94193",
   "metadata": {},
   "outputs": [],
   "source": [
    "\n",
    "X = data.iloc[:, :-1]\n",
    "y = data.iloc[:, -1]\n",
    "    "
   ]
  },
  {
   "cell_type": "markdown",
   "id": "8426b59b",
   "metadata": {},
   "source": [
    "## Split the data into training and test sets"
   ]
  },
  {
   "cell_type": "code",
   "execution_count": 4,
   "id": "375785e6",
   "metadata": {},
   "outputs": [],
   "source": [
    "\n",
    "X_train, X_test, y_train, y_test = train_test_split(X, y, test_size=0.2, random_state=9)\n",
    "    "
   ]
  },
  {
   "cell_type": "markdown",
   "id": "cbfee8a6",
   "metadata": {},
   "source": [
    "## Create the column transformer"
   ]
  },
  {
   "cell_type": "code",
   "execution_count": 5,
   "id": "a46ecfe6",
   "metadata": {},
   "outputs": [],
   "source": [
    "\n",
    "ct = ColumnTransformer([\n",
    "    ('one_hot_encoder', OneHotEncoder(), [1, 4, 5]),\n",
    "    ('standard_scaler', StandardScaler(), [0, 2, 3]),\n",
    "], remainder='passthrough')\n",
    "    "
   ]
  },
  {
   "cell_type": "markdown",
   "id": "b98eb739",
   "metadata": {},
   "source": [
    "## Transform training and test data"
   ]
  },
  {
   "cell_type": "code",
   "execution_count": 6,
   "id": "aea765ab",
   "metadata": {},
   "outputs": [],
   "source": [
    "\n",
    "X_train_transformed = ct.fit_transform(X_train)\n",
    "X_test_transformed = ct.transform(X_test)\n",
    "    "
   ]
  },
  {
   "cell_type": "markdown",
   "id": "87c54140",
   "metadata": {},
   "source": [
    "## Create the random forest regression model"
   ]
  },
  {
   "cell_type": "code",
   "execution_count": 7,
   "id": "a1192743",
   "metadata": {},
   "outputs": [],
   "source": [
    "\n",
    "rf = RandomForestRegressor(n_estimators=100, random_state=9)\n",
    "rf.fit(X_train_transformed, y_train)\n",
    "y_pred = rf.predict(X_test_transformed)\n",
    "    "
   ]
  },
  {
   "cell_type": "markdown",
   "id": "ad1186de",
   "metadata": {},
   "source": [
    "## Evaluation metrics"
   ]
  },
  {
   "cell_type": "code",
   "execution_count": 8,
   "id": "76dff626",
   "metadata": {},
   "outputs": [
    {
     "name": "stdout",
     "output_type": "stream",
     "text": [
      "R squared score: 0.84\n"
     ]
    }
   ],
   "source": [
    "\n",
    "mae = mean_absolute_error(y_test, y_pred)\n",
    "rmse = np.sqrt(mean_squared_error(y_test, y_pred))\n",
    "score = rf.score(X_test_transformed, y_test)\n",
    "print(f\"R squared score: {score:.2f}\")\n",
    "    "
   ]
  },
  {
   "cell_type": "markdown",
   "id": "4f4ea62d",
   "metadata": {},
   "source": [
    "## Save and load model and transformer"
   ]
  },
  {
   "cell_type": "code",
   "execution_count": 9,
   "id": "237ea7b6",
   "metadata": {},
   "outputs": [],
   "source": [
    "\n",
    "from joblib import dump, load\n",
    "\n",
    "# After training your model and transformer:\n",
    "dump(rf, 'trained_model.joblib')\n",
    "dump(ct, 'transformer.joblib')\n",
    "\n",
    "# Load the model and transformer\n",
    "rf = load('trained_model.joblib')\n",
    "ct = load('transformer.joblib')\n",
    "    "
   ]
  },
  {
   "cell_type": "markdown",
   "id": "d0074baf",
   "metadata": {},
   "source": [
    "metricts r2 "
   ]
  },
  {
   "cell_type": "code",
   "execution_count": 10,
   "id": "8ecb4efa",
   "metadata": {},
   "outputs": [
    {
     "data": {
      "text/plain": [
       "0.8416321163641215"
      ]
     },
     "execution_count": 10,
     "metadata": {},
     "output_type": "execute_result"
    }
   ],
   "source": [
    "from sklearn.metrics import r2_score\n",
    "\n",
    "r2_score(y_test, y_pred)"
   ]
  },
  {
   "cell_type": "markdown",
   "id": "294bc727",
   "metadata": {},
   "source": [
    "## predict_insurance_cost function"
   ]
  },
  {
   "cell_type": "code",
   "execution_count": 11,
   "id": "5714e9f2",
   "metadata": {},
   "outputs": [],
   "source": [
    "\n",
    "def predict_insurance_cost(age, sex, bmi, children, smoker, region, model=rf, transformer=ct):\n",
    "    # Create a DataFrame from the inputs\n",
    "    input_data = pd.DataFrame({\n",
    "        'age': [age],\n",
    "        'sex': [sex],\n",
    "        'bmi': [bmi],\n",
    "        'children': [children],\n",
    "        'smoker': [smoker],\n",
    "        'region': [region]\n",
    "    })\n",
    "    \n",
    "    # Transform the input data using the same transformer used during training\n",
    "    transformed_input = transformer.transform(input_data)\n",
    "    \n",
    "    # Make prediction using the trained model\n",
    "    prediction = model.predict(transformed_input)\n",
    "    \n",
    "    return prediction[0]\n",
    "    "
   ]
  },
  {
   "cell_type": "markdown",
   "id": "a8ed1339",
   "metadata": {},
   "source": [
    "## Test the function with a sample input"
   ]
  },
  {
   "cell_type": "code",
   "execution_count": 12,
   "id": "cb494815",
   "metadata": {},
   "outputs": [
    {
     "data": {
      "text/plain": [
       "16898.464367000026"
      ]
     },
     "execution_count": 12,
     "metadata": {},
     "output_type": "execute_result"
    }
   ],
   "source": [
    "\n",
    "predict_insurance_cost(19, 'female', 27.9, 0, 'yes', 'southwest')\n",
    "    "
   ]
  }
 ],
 "metadata": {
  "kernelspec": {
   "display_name": "Python 3",
   "language": "python",
   "name": "python3"
  },
  "language_info": {
   "codemirror_mode": {
    "name": "ipython",
    "version": 3
   },
   "file_extension": ".py",
   "mimetype": "text/x-python",
   "name": "python",
   "nbconvert_exporter": "python",
   "pygments_lexer": "ipython3",
   "version": "3.11.5"
  }
 },
 "nbformat": 4,
 "nbformat_minor": 5
}
